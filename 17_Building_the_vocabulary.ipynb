{
  "nbformat": 4,
  "nbformat_minor": 0,
  "metadata": {
    "colab": {
      "name": "Building the vocabulary.ipynb",
      "provenance": [],
      "collapsed_sections": [],
      "authorship_tag": "ABX9TyOIGcacRmOZxxIsGobXA3sJ",
      "include_colab_link": true
    },
    "kernelspec": {
      "name": "python3",
      "display_name": "Python 3"
    },
    "language_info": {
      "name": "python"
    }
  },
  "cells": [
    {
      "cell_type": "markdown",
      "metadata": {
        "id": "view-in-github",
        "colab_type": "text"
      },
      "source": [
        "<a href=\"https://colab.research.google.com/github/NjoodJ/Training/blob/main/Building_the_vocabulary.ipynb\" target=\"_parent\"><img src=\"https://colab.research.google.com/assets/colab-badge.svg\" alt=\"Open In Colab\"/></a>"
      ]
    },
    {
      "cell_type": "code",
      "execution_count": 19,
      "metadata": {
        "id": "PkDifEgJKZD1"
      },
      "outputs": [],
      "source": [
        "# imports\n",
        "import re # regular expression library; for tokenization of words\n",
        "from collections import Counter # collections library; counter: dict subclass for counting hashable objects\n",
        "import matplotlib.pyplot as plt # for data visualization"
      ]
    },
    {
      "cell_type": "code",
      "source": [
        "# the tiny corpus of text ! \n",
        "text = 'red pink pink blue BLACK blue yellow ORANGE BLUE BLUE PINK black' \n",
        "print(text)\n",
        "print('string length : ',len(text))"
      ],
      "metadata": {
        "colab": {
          "base_uri": "https://localhost:8080/"
        },
        "id": "JLyvqNCpKcfh",
        "outputId": "64234f8f-ae02-4ef0-8c04-8a45daeb6995"
      },
      "execution_count": 20,
      "outputs": [
        {
          "output_type": "stream",
          "name": "stdout",
          "text": [
            "red pink pink blue BLACK blue yellow ORANGE BLUE BLUE PINK black\n",
            "string length :  64\n"
          ]
        }
      ]
    },
    {
      "cell_type": "code",
      "source": [
        "# convert all letters to lower case\n",
        "text_lowercase = text.lower()\n",
        "print(text_lowercase)\n",
        "print('string length : ',len(text_lowercase))"
      ],
      "metadata": {
        "colab": {
          "base_uri": "https://localhost:8080/"
        },
        "id": "8-67OmR3LrR1",
        "outputId": "563fb370-f0aa-41b1-d85e-2f9837121822"
      },
      "execution_count": 21,
      "outputs": [
        {
          "output_type": "stream",
          "name": "stdout",
          "text": [
            "red pink pink blue black blue yellow orange blue blue pink black\n",
            "string length :  64\n"
          ]
        }
      ]
    },
    {
      "cell_type": "code",
      "source": [
        "# some regex to tokenize the string to words and return them in a list\n",
        "words = re.findall(r'\\w+', text_lowercase)\n",
        "print(words)\n",
        "print('count : ',len(words))"
      ],
      "metadata": {
        "colab": {
          "base_uri": "https://localhost:8080/"
        },
        "id": "cXYOOr4uLtEx",
        "outputId": "80addf79-43b9-49e7-80c8-cad80d6112df"
      },
      "execution_count": 22,
      "outputs": [
        {
          "output_type": "stream",
          "name": "stdout",
          "text": [
            "['red', 'pink', 'pink', 'blue', 'black', 'blue', 'yellow', 'orange', 'blue', 'blue', 'pink', 'black']\n",
            "count :  12\n"
          ]
        }
      ]
    },
    {
      "cell_type": "code",
      "source": [
        "# create vocab\n",
        "vocab = set(words)\n",
        "print(vocab)\n",
        "print('count : ',len(vocab))"
      ],
      "metadata": {
        "colab": {
          "base_uri": "https://localhost:8080/"
        },
        "id": "aN6o2jACLw2l",
        "outputId": "1423037b-26d1-40e8-f44a-b5a3f1026447"
      },
      "execution_count": 23,
      "outputs": [
        {
          "output_type": "stream",
          "name": "stdout",
          "text": [
            "{'red', 'black', 'pink', 'orange', 'yellow', 'blue'}\n",
            "count :  6\n"
          ]
        }
      ]
    },
    {
      "cell_type": "code",
      "source": [
        "# create vocab including word count\n",
        "counts_a = dict()\n",
        "for w in words:\n",
        "    counts_a[w] = counts_a.get(w,0)+1\n",
        "print(counts_a)\n",
        "print('count : ',len(counts_a))"
      ],
      "metadata": {
        "colab": {
          "base_uri": "https://localhost:8080/"
        },
        "id": "HtLL57WPL4UD",
        "outputId": "3a376b5f-4c35-47a7-eb89-72017ed7647e"
      },
      "execution_count": 24,
      "outputs": [
        {
          "output_type": "stream",
          "name": "stdout",
          "text": [
            "{'red': 1, 'pink': 3, 'blue': 4, 'black': 2, 'yellow': 1, 'orange': 1}\n",
            "count :  6\n"
          ]
        }
      ]
    },
    {
      "cell_type": "code",
      "source": [
        "# create vocab including word count using collections.Counter\n",
        "counts_b = dict()\n",
        "counts_b = Counter(words)\n",
        "print(counts_b)\n",
        "print('count : ',len(counts_b))"
      ],
      "metadata": {
        "colab": {
          "base_uri": "https://localhost:8080/"
        },
        "id": "Dt9LjiazObZr",
        "outputId": "d69d9ba3-5fb1-433b-8812-fde21b666851"
      },
      "execution_count": 25,
      "outputs": [
        {
          "output_type": "stream",
          "name": "stdout",
          "text": [
            "Counter({'blue': 4, 'pink': 3, 'black': 2, 'red': 1, 'yellow': 1, 'orange': 1})\n",
            "count :  6\n"
          ]
        }
      ]
    },
    {
      "cell_type": "code",
      "source": [
        "# barchart of sorted word counts\n",
        "d = {'blue': counts_b['blue'], 'pink': counts_b['pink'], 'red': counts_b['red'], 'yellow': counts_b['yellow'], 'orange': counts_b['orange'], 'black': counts_b['black']}\n",
        "plt.bar(range(len(d)), list(d.values()), align='center', color=d.keys())\n",
        "_ = plt.xticks(range(len(d)), list(d.keys()))"
      ],
      "metadata": {
        "colab": {
          "base_uri": "https://localhost:8080/",
          "height": 265
        },
        "id": "txElfgjLN_HQ",
        "outputId": "e678efe9-7b85-46b0-8d36-9d9a0c00b45e"
      },
      "execution_count": 26,
      "outputs": [
        {
          "output_type": "display_data",
          "data": {
            "text/plain": [
              "<Figure size 432x288 with 1 Axes>"
            ],
            "image/png": "[encoded data removed]"
          },
          "metadata": {
            "needs_background": "light"
          }
        }
      ]
    },
    {
      "cell_type": "code",
      "source": [
        "print('counts_b : ', counts_b)\n",
        "print('count : ', len(counts_b))"
      ],
      "metadata": {
        "colab": {
          "base_uri": "https://localhost:8080/"
        },
        "id": "hQxxNnSmOdcC",
        "outputId": "3da28095-846c-45e5-ad5c-2b21b099a01b"
      },
      "execution_count": 27,
      "outputs": [
        {
          "output_type": "stream",
          "name": "stdout",
          "text": [
            "counts_b :  Counter({'blue': 4, 'pink': 3, 'black': 2, 'red': 1, 'yellow': 1, 'orange': 1})\n",
            "count :  6\n"
          ]
        }
      ]
    }
  ]
}
