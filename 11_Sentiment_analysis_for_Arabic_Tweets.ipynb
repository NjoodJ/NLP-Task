{
  "nbformat": 4,
  "nbformat_minor": 0,
  "metadata": {
    "colab": {
      "name": "11- Sentiment analysis for Arabic Tweets.ipynb",
      "provenance": [],
      "collapsed_sections": [],
      "authorship_tag": "ABX9TyMVQmVwukfdf9RgPHn6GxQ8",
      "include_colab_link": true
    },
    "kernelspec": {
      "name": "python3",
      "display_name": "Python 3"
    },
    "language_info": {
      "name": "python"
    }
  },
  "cells": [
    {
      "cell_type": "markdown",
      "metadata": {
        "id": "view-in-github",
        "colab_type": "text"
      },
      "source": [
        "<a href=\"https://colab.research.google.com/github/NjoodJ/Training/blob/main/11_Sentiment_analysis_for_Arabic_Tweets.ipynb\" target=\"_parent\"><img src=\"https://colab.research.google.com/assets/colab-badge.svg\" alt=\"Open In Colab\"/></a>"
      ]
    },
    {
      "cell_type": "code",
      "source": [
        "import pandas as pd\n",
        "# Reading the file of Internet Movie Database (IMDB)\n",
        "df = pd.read_csv('/content/Book1.csv', sep = ',')\n",
        "df.head(10)"
      ],
      "metadata": {
        "colab": {
          "base_uri": "https://localhost:8080/",
          "height": 363
        },
        "id": "oh8V28tuGI4A",
        "outputId": "6a91f395-ab01-41d8-f266-28fbf187397a"
      },
      "execution_count": 104,
      "outputs": [
        {
          "output_type": "execute_result",
          "data": {
            "text/plain": [
              "  Label                                               Text\n",
              "0   pos  ﾟ ♬ . لا تناقشني في شخص أنت تشوفه بعينك وأنا أ...\n",
              "1   pos  _ ♨️ عسل سدر 🎀 ♨️ اقسم بالله انه عسل سدر ♨️ ⛰ ...\n",
              "2   neg  _ 🔴 عسل المجرى للمتزوجين 🔴 ✔ أفضل المقويات الج...\n",
              "3   neg  _⛔ #مناحل_ابو_سلطان . . 🍯 اقسم بالله انه عسل 🍯...\n",
              "4   neg  _⛔ #مناحل_ابو_سلطان . . 🍯 اقسم بالله انه عسل 🍯...\n",
              "5   neg              - أمطري ياسماء و إسقي قلوب الحاقدين 🥀\n",
              "6   pos               - ربي رجوتك صباحا تسعد به من أحب . ❤\n",
              "7   pos                       - لا خاالص 😂 - لا ولا برضه 😂\n",
              "8   pos  - لماذا تعلقت بي هكذا ؟ - لأننا في القرن الواح...\n",
              "9   pos  - وإن ضاقت عليک يوما ف أنا أمک وأختک وحبيبتک و..."
            ],
            "text/html": [
              "\n",
              "  <div id=\"df-b26bfa4e-c19b-4e5b-b30e-a896390dae0a\">\n",
              "    <div class=\"colab-df-container\">\n",
              "      <div>\n",
              "<style scoped>\n",
              "    .dataframe tbody tr th:only-of-type {\n",
              "        vertical-align: middle;\n",
              "    }\n",
              "\n",
              "    .dataframe tbody tr th {\n",
              "        vertical-align: top;\n",
              "    }\n",
              "\n",
              "    .dataframe thead th {\n",
              "        text-align: right;\n",
              "    }\n",
              "</style>\n",
              "<table border=\"1\" class=\"dataframe\">\n",
              "  <thead>\n",
              "    <tr style=\"text-align: right;\">\n",
              "      <th></th>\n",
              "      <th>Label</th>\n",
              "      <th>Text</th>\n",
              "    </tr>\n",
              "  </thead>\n",
              "  <tbody>\n",
              "    <tr>\n",
              "      <th>0</th>\n",
              "      <td>pos</td>\n",
              "      <td>ﾟ ♬ . لا تناقشني في شخص أنت تشوفه بعينك وأنا أ...</td>\n",
              "    </tr>\n",
              "    <tr>\n",
              "      <th>1</th>\n",
              "      <td>pos</td>\n",
              "      <td>_ ♨️ عسل سدر 🎀 ♨️ اقسم بالله انه عسل سدر ♨️ ⛰ ...</td>\n",
              "    </tr>\n",
              "    <tr>\n",
              "      <th>2</th>\n",
              "      <td>neg</td>\n",
              "      <td>_ 🔴 عسل المجرى للمتزوجين 🔴 ✔ أفضل المقويات الج...</td>\n",
              "    </tr>\n",
              "    <tr>\n",
              "      <th>3</th>\n",
              "      <td>neg</td>\n",
              "      <td>_⛔ #مناحل_ابو_سلطان . . 🍯 اقسم بالله انه عسل 🍯...</td>\n",
              "    </tr>\n",
              "    <tr>\n",
              "      <th>4</th>\n",
              "      <td>neg</td>\n",
              "      <td>_⛔ #مناحل_ابو_سلطان . . 🍯 اقسم بالله انه عسل 🍯...</td>\n",
              "    </tr>\n",
              "    <tr>\n",
              "      <th>5</th>\n",
              "      <td>neg</td>\n",
              "      <td>- أمطري ياسماء و إسقي قلوب الحاقدين 🥀</td>\n",
              "    </tr>\n",
              "    <tr>\n",
              "      <th>6</th>\n",
              "      <td>pos</td>\n",
              "      <td>- ربي رجوتك صباحا تسعد به من أحب . ❤</td>\n",
              "    </tr>\n",
              "    <tr>\n",
              "      <th>7</th>\n",
              "      <td>pos</td>\n",
              "      <td>- لا خاالص 😂 - لا ولا برضه 😂</td>\n",
              "    </tr>\n",
              "    <tr>\n",
              "      <th>8</th>\n",
              "      <td>pos</td>\n",
              "      <td>- لماذا تعلقت بي هكذا ؟ - لأننا في القرن الواح...</td>\n",
              "    </tr>\n",
              "    <tr>\n",
              "      <th>9</th>\n",
              "      <td>pos</td>\n",
              "      <td>- وإن ضاقت عليک يوما ف أنا أمک وأختک وحبيبتک و...</td>\n",
              "    </tr>\n",
              "  </tbody>\n",
              "</table>\n",
              "</div>\n",
              "      <button class=\"colab-df-convert\" onclick=\"convertToInteractive('df-b26bfa4e-c19b-4e5b-b30e-a896390dae0a')\"\n",
              "              title=\"Convert this dataframe to an interactive table.\"\n",
              "              style=\"display:none;\">\n",
              "        \n",
              "  <svg xmlns=\"http://www.w3.org/2000/svg\" height=\"24px\"viewBox=\"0 0 24 24\"\n",
              "       width=\"24px\">\n",
              "    <path d=\"M0 0h24v24H0V0z\" fill=\"none\"/>\n",
              "    <path d=\"M18.56 5.44l.94 2.06.94-2.06 2.06-.94-2.06-.94-.94-2.06-.94 2.06-2.06.94zm-11 1L8.5 8.5l.94-2.06 2.06-.94-2.06-.94L8.5 2.5l-.94 2.06-2.06.94zm10 10l.94 2.06.94-2.06 2.06-.94-2.06-.94-.94-2.06-.94 2.06-2.06.94z\"/><path d=\"M17.41 7.96l-1.37-1.37c-.4-.4-.92-.59-1.43-.59-.52 0-1.04.2-1.43.59L10.3 9.45l-7.72 7.72c-.78.78-.78 2.05 0 2.83L4 21.41c.39.39.9.59 1.41.59.51 0 1.02-.2 1.41-.59l7.78-7.78 2.81-2.81c.8-.78.8-2.07 0-2.86zM5.41 20L4 18.59l7.72-7.72 1.47 1.35L5.41 20z\"/>\n",
              "  </svg>\n",
              "      </button>\n",
              "      \n",
              "  <style>\n",
              "    .colab-df-container {\n",
              "      display:flex;\n",
              "      flex-wrap:wrap;\n",
              "      gap: 12px;\n",
              "    }\n",
              "\n",
              "    .colab-df-convert {\n",
              "      background-color: #E8F0FE;\n",
              "      border: none;\n",
              "      border-radius: 50%;\n",
              "      cursor: pointer;\n",
              "      display: none;\n",
              "      fill: #1967D2;\n",
              "      height: 32px;\n",
              "      padding: 0 0 0 0;\n",
              "      width: 32px;\n",
              "    }\n",
              "\n",
              "    .colab-df-convert:hover {\n",
              "      background-color: #E2EBFA;\n",
              "      box-shadow: 0px 1px 2px rgba(60, 64, 67, 0.3), 0px 1px 3px 1px rgba(60, 64, 67, 0.15);\n",
              "      fill: #174EA6;\n",
              "    }\n",
              "\n",
              "    [theme=dark] .colab-df-convert {\n",
              "      background-color: #3B4455;\n",
              "      fill: #D2E3FC;\n",
              "    }\n",
              "\n",
              "    [theme=dark] .colab-df-convert:hover {\n",
              "      background-color: #434B5C;\n",
              "      box-shadow: 0px 1px 3px 1px rgba(0, 0, 0, 0.15);\n",
              "      filter: drop-shadow(0px 1px 2px rgba(0, 0, 0, 0.3));\n",
              "      fill: #FFFFFF;\n",
              "    }\n",
              "  </style>\n",
              "\n",
              "      <script>\n",
              "        const buttonEl =\n",
              "          document.querySelector('#df-b26bfa4e-c19b-4e5b-b30e-a896390dae0a button.colab-df-convert');\n",
              "        buttonEl.style.display =\n",
              "          google.colab.kernel.accessAllowed ? 'block' : 'none';\n",
              "\n",
              "        async function convertToInteractive(key) {\n",
              "          const element = document.querySelector('#df-b26bfa4e-c19b-4e5b-b30e-a896390dae0a');\n",
              "          const dataTable =\n",
              "            await google.colab.kernel.invokeFunction('convertToInteractive',\n",
              "                                                     [key], {});\n",
              "          if (!dataTable) return;\n",
              "\n",
              "          const docLinkHtml = 'Like what you see? Visit the ' +\n",
              "            '<a target=\"_blank\" href=https://colab.research.google.com/notebooks/data_table.ipynb>data table notebook</a>'\n",
              "            + ' to learn more about interactive tables.';\n",
              "          element.innerHTML = '';\n",
              "          dataTable['output_type'] = 'display_data';\n",
              "          await google.colab.output.renderOutput(dataTable, element);\n",
              "          const docLink = document.createElement('div');\n",
              "          docLink.innerHTML = docLinkHtml;\n",
              "          element.appendChild(docLink);\n",
              "        }\n",
              "      </script>\n",
              "    </div>\n",
              "  </div>\n",
              "  "
            ]
          },
          "metadata": {},
          "execution_count": 104
        }
      ]
    },
    {
      "cell_type": "code",
      "source": [
        "Texts = df\n",
        "sentiment_clean = Text.Label.factorize()\t\n",
        "sentiment_clean"
      ],
      "metadata": {
        "colab": {
          "base_uri": "https://localhost:8080/"
        },
        "id": "PzBTUzjOHIKz",
        "outputId": "def640ec-6cbe-409c-eb3f-34974213ffb3"
      },
      "execution_count": 105,
      "outputs": [
        {
          "output_type": "execute_result",
          "data": {
            "text/plain": [
              "(array([0, 0, 1, ..., 1, 0, 0]), Index(['pos', 'neg'], dtype='object'))"
            ]
          },
          "metadata": {},
          "execution_count": 105
        }
      ]
    },
    {
      "cell_type": "code",
      "source": [
        "from tensorflow.keras.preprocessing.text import Tokenizer\n",
        "from tensorflow.keras.preprocessing.sequence import pad_sequences\n",
        "Rev = Texts.Text.values\n",
        "tokenizer = Tokenizer(num_words = 5000)\n",
        "df = df.dropna()\n",
        "tokenizer.fit_on_texts(Rev)\n",
        "size = len(tokenizer.word_index) + 1\n",
        "encoded = tokenizer.texts_to_sequences(Rev)\n",
        "paded_sequences = pad_sequences(encoded, maxlen = 200)\n",
        "#print(tokenizer.word_index)\n",
        "print(paded_sequences)"
      ],
      "metadata": {
        "colab": {
          "base_uri": "https://localhost:8080/"
        },
        "id": "ID6cdhmo8Ji9",
        "outputId": "d4c99a7c-4487-4792-e692-30a1afc54aa0"
      },
      "execution_count": 106,
      "outputs": [
        {
          "output_type": "stream",
          "name": "stdout",
          "text": [
            "[[   0    0    0 ...  606  346  281]\n",
            " [   0    0    0 ... 1840   81 1841]\n",
            " [   0    0    0 ... 1847 1848 1849]\n",
            " ...\n",
            " [   0    0    0 ... 1311    5   54]\n",
            " [   0    0    0 ...  168   17   14]\n",
            " [   0    0    0 ... 1659   41  219]]\n"
          ]
        }
      ]
    },
    {
      "cell_type": "code",
      "source": [
        "print(Rev[0])\n",
        "print(encoded[0])"
      ],
      "metadata": {
        "colab": {
          "base_uri": "https://localhost:8080/"
        },
        "id": "h_O9ABxGH-Ox",
        "outputId": "e1911cbc-292e-4a14-f40d-53a7a78faf5b"
      },
      "execution_count": 67,
      "outputs": [
        {
          "output_type": "stream",
          "name": "stdout",
          "text": [
            "ﾟ ♬ . لا تناقشني في شخص أنت تشوفه بعينك وأنا أشوفه بقلبي . ♥ . 🥀\n",
            "[1830, 1831, 9, 1832, 2, 90, 151, 1833, 1834, 204, 1835, 606, 346, 281]\n"
          ]
        }
      ]
    },
    {
      "cell_type": "code",
      "source": [
        "print(paded_sequences[0])"
      ],
      "metadata": {
        "colab": {
          "base_uri": "https://localhost:8080/"
        },
        "id": "YzexKpSX88B0",
        "outputId": "b268f7bd-e2c4-4faa-841a-ecfac8022815"
      },
      "execution_count": 68,
      "outputs": [
        {
          "output_type": "stream",
          "name": "stdout",
          "text": [
            "[   0    0    0    0    0    0    0    0    0    0    0    0    0    0\n",
            "    0    0    0    0    0    0    0    0    0    0    0    0    0    0\n",
            "    0    0    0    0    0    0    0    0    0    0    0    0    0    0\n",
            "    0    0    0    0    0    0    0    0    0    0    0    0    0    0\n",
            "    0    0    0    0    0    0    0    0    0    0    0    0    0    0\n",
            "    0    0    0    0    0    0    0    0    0    0    0    0    0    0\n",
            "    0    0    0    0    0    0    0    0    0    0    0    0    0    0\n",
            "    0    0    0    0    0    0    0    0    0    0    0    0    0    0\n",
            "    0    0    0    0    0    0    0    0    0    0    0    0    0    0\n",
            "    0    0    0    0    0    0    0    0    0    0    0    0    0    0\n",
            "    0    0    0    0    0    0    0    0    0    0    0    0    0    0\n",
            "    0    0    0    0    0    0    0    0    0    0    0    0    0    0\n",
            "    0    0    0    0    0    0    0    0    0    0    0    0    0    0\n",
            "    0    0    0    0 1830 1831    9 1832    2   90  151 1833 1834  204\n",
            " 1835  606  346  281]\n"
          ]
        }
      ]
    },
    {
      "cell_type": "code",
      "source": [
        "from tensorflow.keras.models import Sequential\n",
        "from tensorflow.keras.layers import LSTM,Dense, Dropout, SpatialDropout1D\n",
        "from tensorflow.keras.layers import Embedding\n",
        " \n",
        "embedding_vector_length = 32\n",
        "Model = Sequential() \n",
        "Model.add(Embedding(size, embedding_vector_length, input_length=200) )\n",
        "Model.add(SpatialDropout1D(0.25))\n",
        "Model.add(LSTM(50, dropout=0.5, recurrent_dropout=0.5))\n",
        "Model.add(Dropout(0.2))\n",
        "Model.add(Dense(1, activation='sigmoid')) \n",
        "Model.compile(loss='binary_crossentropy',optimizer='adam', metrics=['accuracy'])  \n",
        "print(Model.summary())"
      ],
      "metadata": {
        "colab": {
          "base_uri": "https://localhost:8080/"
        },
        "id": "u8_6hU9t9p9v",
        "outputId": "ae9c5793-7a72-4329-d19f-4d8d7670418a"
      },
      "execution_count": 69,
      "outputs": [
        {
          "output_type": "stream",
          "name": "stdout",
          "text": [
            "Model: \"sequential\"\n",
            "_________________________________________________________________\n",
            " Layer (type)                Output Shape              Param #   \n",
            "=================================================================\n",
            " embedding (Embedding)       (None, 200, 32)           213088    \n",
            "                                                                 \n",
            " spatial_dropout1d (SpatialD  (None, 200, 32)          0         \n",
            " ropout1D)                                                       \n",
            "                                                                 \n",
            " lstm (LSTM)                 (None, 50)                16600     \n",
            "                                                                 \n",
            " dropout (Dropout)           (None, 50)                0         \n",
            "                                                                 \n",
            " dense (Dense)               (None, 1)                 51        \n",
            "                                                                 \n",
            "=================================================================\n",
            "Total params: 229,739\n",
            "Trainable params: 229,739\n",
            "Non-trainable params: 0\n",
            "_________________________________________________________________\n",
            "None\n"
          ]
        }
      ]
    },
    {
      "cell_type": "code",
      "source": [
        "from tensorflow.keras.utils import plot_model\n",
        "plot_model (Model , to_file='model.png')"
      ],
      "metadata": {
        "colab": {
          "base_uri": "https://localhost:8080/",
          "height": 564
        },
        "id": "SFDYfaMI9zaP",
        "outputId": "86bccb1b-f656-4634-90da-cb4c8c2edaba"
      },
      "execution_count": 70,
      "outputs": [
        {
          "output_type": "execute_result",
          "data": {
            "text/plain": [
              "<IPython.core.display.Image object>"
            ],
            "image/png": "[encoded data removed]"
          },
          "metadata": {},
          "execution_count": 70
        }
      ]
    },
    {
      "cell_type": "code",
      "source": [
        "history = Model.fit(paded_sequences,sentiment_clean[0],validation_split=0.2, epochs=20, batch_size=16)"
      ],
      "metadata": {
        "colab": {
          "base_uri": "https://localhost:8080/"
        },
        "id": "sBT8oW-Z93TU",
        "outputId": "afb0d261-6f16-42db-d5a3-35213a63fd86"
      },
      "execution_count": 71,
      "outputs": [
        {
          "output_type": "stream",
          "name": "stdout",
          "text": [
            "Epoch 1/20\n",
            "54/54 [==============================] - 15s 215ms/step - loss: 0.6900 - accuracy: 0.5500 - val_loss: 0.6838 - val_accuracy: 0.6065\n",
            "Epoch 2/20\n",
            "54/54 [==============================] - 11s 213ms/step - loss: 0.6455 - accuracy: 0.6942 - val_loss: 0.6312 - val_accuracy: 0.7778\n",
            "Epoch 3/20\n",
            "54/54 [==============================] - 11s 201ms/step - loss: 0.5324 - accuracy: 0.8419 - val_loss: 0.5706 - val_accuracy: 0.6667\n",
            "Epoch 4/20\n",
            "54/54 [==============================] - 11s 206ms/step - loss: 0.3289 - accuracy: 0.9058 - val_loss: 0.5562 - val_accuracy: 0.7083\n",
            "Epoch 5/20\n",
            "54/54 [==============================] - 12s 218ms/step - loss: 0.2268 - accuracy: 0.9384 - val_loss: 0.5216 - val_accuracy: 0.7269\n",
            "Epoch 6/20\n",
            "54/54 [==============================] - 11s 208ms/step - loss: 0.1578 - accuracy: 0.9523 - val_loss: 0.4905 - val_accuracy: 0.7546\n",
            "Epoch 7/20\n",
            "54/54 [==============================] - 11s 205ms/step - loss: 0.1094 - accuracy: 0.9767 - val_loss: 0.4698 - val_accuracy: 0.7778\n",
            "Epoch 8/20\n",
            "54/54 [==============================] - 11s 205ms/step - loss: 0.0947 - accuracy: 0.9791 - val_loss: 0.4632 - val_accuracy: 0.7731\n",
            "Epoch 9/20\n",
            "54/54 [==============================] - 11s 202ms/step - loss: 0.0698 - accuracy: 0.9802 - val_loss: 0.4603 - val_accuracy: 0.7824\n",
            "Epoch 10/20\n",
            "54/54 [==============================] - 11s 208ms/step - loss: 0.0527 - accuracy: 0.9884 - val_loss: 0.4580 - val_accuracy: 0.7731\n",
            "Epoch 11/20\n",
            "54/54 [==============================] - 11s 200ms/step - loss: 0.0482 - accuracy: 0.9884 - val_loss: 0.4466 - val_accuracy: 0.7963\n",
            "Epoch 12/20\n",
            "54/54 [==============================] - 11s 205ms/step - loss: 0.0389 - accuracy: 0.9907 - val_loss: 0.4449 - val_accuracy: 0.8102\n",
            "Epoch 13/20\n",
            "54/54 [==============================] - 11s 206ms/step - loss: 0.0323 - accuracy: 0.9942 - val_loss: 0.4441 - val_accuracy: 0.8009\n",
            "Epoch 14/20\n",
            "54/54 [==============================] - 12s 216ms/step - loss: 0.0249 - accuracy: 0.9942 - val_loss: 0.4500 - val_accuracy: 0.8056\n",
            "Epoch 15/20\n",
            "54/54 [==============================] - 11s 206ms/step - loss: 0.0258 - accuracy: 0.9942 - val_loss: 0.4664 - val_accuracy: 0.8009\n",
            "Epoch 16/20\n",
            "54/54 [==============================] - 12s 214ms/step - loss: 0.0187 - accuracy: 0.9953 - val_loss: 0.4675 - val_accuracy: 0.8056\n",
            "Epoch 17/20\n",
            "54/54 [==============================] - 11s 210ms/step - loss: 0.0206 - accuracy: 0.9965 - val_loss: 0.4756 - val_accuracy: 0.8102\n",
            "Epoch 18/20\n",
            "54/54 [==============================] - 11s 209ms/step - loss: 0.0120 - accuracy: 0.9988 - val_loss: 0.4865 - val_accuracy: 0.8102\n",
            "Epoch 19/20\n",
            "54/54 [==============================] - 11s 208ms/step - loss: 0.0187 - accuracy: 0.9942 - val_loss: 0.4922 - val_accuracy: 0.8102\n",
            "Epoch 20/20\n",
            "54/54 [==============================] - 12s 220ms/step - loss: 0.0170 - accuracy: 0.9942 - val_loss: 0.4940 - val_accuracy: 0.8056\n"
          ]
        }
      ]
    },
    {
      "cell_type": "code",
      "source": [
        "from matplotlib import pyplot as plt\n",
        "plt.plot(history.history['accuracy'], label='accuracy')\n",
        "plt.plot(history.history['val_accuracy'], label='valaidation_acc')\n",
        "plt.legend()\n",
        "plt.show()"
      ],
      "metadata": {
        "colab": {
          "base_uri": "https://localhost:8080/",
          "height": 265
        },
        "id": "_pnWdCaY-X1O",
        "outputId": "5e7d460f-6de8-415e-9db0-6cf9c1f262da"
      },
      "execution_count": 72,
      "outputs": [
        {
          "output_type": "display_data",
          "data": {
            "text/plain": [
              "<Figure size 432x288 with 1 Axes>"
            ],
            "image/png": "[encoded data removed]"
          },
          "metadata": {
            "needs_background": "light"
          }
        }
      ]
    },
    {
      "cell_type": "code",
      "source": [
        "plt.plot(history.history['loss'], label='loss')\n",
        "plt.plot(history.history['val_loss'], label='valaidation_acc')\n",
        "plt.legend()\n",
        "plt.show()"
      ],
      "metadata": {
        "colab": {
          "base_uri": "https://localhost:8080/",
          "height": 265
        },
        "id": "TPmpKBUqFepj",
        "outputId": "af156ac5-6729-42a7-bca4-3a0b06603a37"
      },
      "execution_count": 73,
      "outputs": [
        {
          "output_type": "display_data",
          "data": {
            "text/plain": [
              "<Figure size 432x288 with 1 Axes>"
            ],
            "image/png": "[encoded data removed]"
          },
          "metadata": {
            "needs_background": "light"
          }
        }
      ]
    },
    {
      "cell_type": "code",
      "source": [
        "Test =\"\t♥️🎁 مسابقة 🎁♥️ _ الشروط فقط 👌_ ( متابعة + ريتويت ) 🎁وتدخل السحب 🎁 🌹 بالتوفيق للجميع 🌹 ⏰السحب بعد يومين ⏰\"\n",
        "tw = tokenizer.texts_to_sequences([Test])\n",
        "tw"
      ],
      "metadata": {
        "colab": {
          "base_uri": "https://localhost:8080/"
        },
        "id": "N_9IZdJYFgEq",
        "outputId": "98cc591d-53c1-40dc-9971-bacfa8440640"
      },
      "execution_count": 100,
      "outputs": [
        {
          "output_type": "execute_result",
          "data": {
            "text/plain": [
              "[[522, 272, 216, 832, 577, 1636, 47, 600, 31, 4394, 1100, 31, 25, 231]]"
            ]
          },
          "metadata": {},
          "execution_count": 100
        }
      ]
    },
    {
      "cell_type": "code",
      "source": [
        "tw = pad_sequences(tw,maxlen=200)\n",
        "tw"
      ],
      "metadata": {
        "colab": {
          "base_uri": "https://localhost:8080/"
        },
        "id": "QGgVxdHWFxYa",
        "outputId": "1b8281aa-172c-433e-fd0d-547cf054709b"
      },
      "execution_count": 101,
      "outputs": [
        {
          "output_type": "execute_result",
          "data": {
            "text/plain": [
              "array([[   0,    0,    0,    0,    0,    0,    0,    0,    0,    0,    0,\n",
              "           0,    0,    0,    0,    0,    0,    0,    0,    0,    0,    0,\n",
              "           0,    0,    0,    0,    0,    0,    0,    0,    0,    0,    0,\n",
              "           0,    0,    0,    0,    0,    0,    0,    0,    0,    0,    0,\n",
              "           0,    0,    0,    0,    0,    0,    0,    0,    0,    0,    0,\n",
              "           0,    0,    0,    0,    0,    0,    0,    0,    0,    0,    0,\n",
              "           0,    0,    0,    0,    0,    0,    0,    0,    0,    0,    0,\n",
              "           0,    0,    0,    0,    0,    0,    0,    0,    0,    0,    0,\n",
              "           0,    0,    0,    0,    0,    0,    0,    0,    0,    0,    0,\n",
              "           0,    0,    0,    0,    0,    0,    0,    0,    0,    0,    0,\n",
              "           0,    0,    0,    0,    0,    0,    0,    0,    0,    0,    0,\n",
              "           0,    0,    0,    0,    0,    0,    0,    0,    0,    0,    0,\n",
              "           0,    0,    0,    0,    0,    0,    0,    0,    0,    0,    0,\n",
              "           0,    0,    0,    0,    0,    0,    0,    0,    0,    0,    0,\n",
              "           0,    0,    0,    0,    0,    0,    0,    0,    0,    0,    0,\n",
              "           0,    0,    0,    0,    0,    0,    0,    0,    0,    0,    0,\n",
              "           0,    0,    0,    0,    0,    0,    0,    0,    0,    0,  522,\n",
              "         272,  216,  832,  577, 1636,   47,  600,   31, 4394, 1100,   31,\n",
              "          25,  231]], dtype=int32)"
            ]
          },
          "metadata": {},
          "execution_count": 101
        }
      ]
    },
    {
      "cell_type": "code",
      "source": [
        "prediction = int(Model.predict(tw).round().item())"
      ],
      "metadata": {
        "id": "2IlKbVSRFs6z"
      },
      "execution_count": 102,
      "outputs": []
    },
    {
      "cell_type": "code",
      "source": [
        "sentiment_clean[1][prediction]\n"
      ],
      "metadata": {
        "colab": {
          "base_uri": "https://localhost:8080/",
          "height": 35
        },
        "id": "u1SQs1J4Fy90",
        "outputId": "55e61513-102e-4668-e15e-4f1ce73bffdc"
      },
      "execution_count": 103,
      "outputs": [
        {
          "output_type": "execute_result",
          "data": {
            "text/plain": [
              "'pos'"
            ],
            "application/vnd.google.colaboratory.intrinsic+json": {
              "type": "string"
            }
          },
          "metadata": {},
          "execution_count": 103
        }
      ]
    }
  ]
}